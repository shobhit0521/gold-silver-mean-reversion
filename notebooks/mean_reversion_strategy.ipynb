{
 "cells": [
  {
   "cell_type": "markdown",
   "metadata": {},
   "source": [
    "# Mean Reversion Strategy for Gold and Silver ETFs\n",
    "\n",
    "This notebook implements a mean reversion strategy for Gold and Silver ETFs using historical price data. The strategy identifies potential buy and sell signals based on the assumption that prices will revert to their mean over time."
   ]
  },
  {
   "cell_type": "code",
   "execution_count": null,
   "metadata": {
    "id": "data_loading"
   },
   "outputs": [
    {
     "ename": "SyntaxError",
     "evalue": "unterminated string literal (detected at line 134) (2418614768.py, line 134)",
     "output_type": "error",
     "traceback": [
      "\u001b[0;36m  Cell \u001b[0;32mIn[9], line 134\u001b[0;36m\u001b[0m\n\u001b[0;31m    plot_results(hdfc_gold_backtest, 'HDFC Gold ETF Mean Reversion_backtest, 'Nippon Silver ETF Mean Reversion Strategy')torical price data\u001b[0m\n\u001b[0m                                                                                                                       ^\u001b[0m\n\u001b[0;31mSyntaxError\u001b[0m\u001b[0;31m:\u001b[0m unterminated string literal (detected at line 134)\n"
     ]
    }
   ],
   "source": [
    "import pandas as pd\n",
    "import numpy as np\n",
    "import matplotlib.pyplot as plt\n",
    "\n",
    "# Load his# ...existing code...\n",
    "\n",
    "# Backtesting function (do not modify original DataFrame)\n",
    "def backtest(data, signals):\n",
    "    df = data.copy()\n",
    "    df['Position'] = signals\n",
    "    df['Market_Returns'] = df['Close'].pct_change()\n",
    "    df['Strategy_Returns'] = df['Market_Returns'] * df['Position'].shift(1)\n",
    "    df['Cumulative_Strategy_Returns'] = (1 + df['Strategy_Returns'].fillna(0)).cumprod()\n",
    "    return df\n",
    "\n",
    "goldbees_backtest = backtest(goldbees_df, goldbees_signals)\n",
    "hdfc_gold_backtest = backtest(hdfc_gold_df, hdfc_gold_signals)\n",
    "nippon_silver_backtest = backtest(nippon_silver_df, nippon_silver_signals)\n",
    "\n",
    "goldbees_backtest[['Market_Returns', 'Strategy_Returns']].head(), hdfc_gold_backtest[['Market_Returns', 'Strategy_Returns']].head(), nippon_silver_backtest[['Market_Returns', 'Strategy_Returns']].head()\n",
    "\n",
    "# ...existing code...\n",
    "\n",
    "# Plotting the results (plot cumulative returns)\n",
    "def plot_results(data, title):\n",
    "    plt.figure(figsize=(12,     # --- Fixes for backtest and plotting cells ---\n",
    "    \n",
    "    # Backtesting function (do not modify original DataFrame)\n",
    "    def backtest(data, signals):\n",
    "        df = data.copy()\n",
    "        df['Position'] = signals\n",
    "        df['Market_Returns'] = df['Close'].pct_change()\n",
    "        df['Strategy_Returns'] = df['Market_Returns'] * df['Position'].shift(1)\n",
    "        df['Cumulative_Strategy_Returns'] = (1 + df['Strategy_Returns'].fillna(0)).cumprod()\n",
    "        return df\n",
    "    \n",
    "    goldbees_backtest = backtest(goldbees_df, goldbees_signals)\n",
    "    hdfc_gold_backtest = backtest(hdfc_gold_df, hdfc_gold_signals)\n",
    "    nippon_silver_backtest = backtest(nippon_silver_df, nippon_silver_signals)\n",
    "    \n",
    "    goldbees_backtest[['Market_Returns', 'Strategy_Returns']].head(), hdfc_gold_backtest[['Market_Returns', 'Strategy_Returns']].head(), nippon_silver_backtest[['Market_Returns', 'Strategy_Returns']].head()\n",
    "    \n",
    "    # Plotting the results (plot cumulative returns)\n",
    "    def plot_results(data, title):\n",
    "        plt.figure(figsize=(12, 6))\n",
    "        plt.plot(data['Close'], label='Price')\n",
    "        plt.plot(data['Cumulative_Strategy_Returns'], label='Cumulative Strategy Returns')\n",
    "        plt.title(title)\n",
    "        plt.xlabel('Date')\n",
    "        plt.ylabel('Price / Cumulative Returns')\n",
    "        plt.legend()\n",
    "        plt.grid(True)\n",
    "        plt.tight_layout()\n",
    "        plt.show()\n",
    "    \n",
    "    plot_results(goldbees_backtest, 'GoldBees ETF Mean Reversion Strategy')\n",
    "    plot_results(hdfc_gold_backtest, 'HDFC Gold ETF Mean Reversion Strategy')\n",
    "    plot_results(nippon_silver_backtest, 'Nippon Silver ETF Mean Reversion Strategy')6))\n",
    "    plt.plot(data['Close'], label='Price')\n",
    "    plt.plot(data['Cumulative_Strategy_Returns'], label='Cumulative Strategy Returns')\n",
    "    plt.title(title)\n",
    "    plt.xlabel('Date')\n",
    "    plt.ylabel('Price / Cumulative Returns')\n",
    "    plt.legend()\n",
    "    plt.grid(True)\n",
    "    plt.tight_layout()\n",
    "    plt.show()\n",
    "\n",
    "plot_results(goldbees_backtest, 'GoldBees ETF Mean Reversion Strategy')\n",
    "plot_results(hdfc_gold_backtest, 'HDFC Gold ETF Mean Reversion Strategy')\n",
    "plot_results(nippon_silverimport pandas as pd\n",
    "import numpy as np\n",
    "import matplotlib.pyplot as plt\n",
    "\n",
    "# Load historical price data for Gold ETFs only\n",
    "goldbees_df = pd.read_csv('../data/goldbees_4yr_data.csv', parse_dates=True, index_col='Date')\n",
    "hdfc_gold_df = pd.read_csv('../data/hdfcgold_4yr_data.csv', parse_dates=True, index_col='Date')\n",
    "\n",
    "# Display the first few rows of the data\n",
    "goldbees_df.head(), hdfc_gold_df.head()\n",
    "\n",
    "# --- Data Analysis ---\n",
    "# Calculate mean and standard deviation\n",
    "goldbees_mean = goldbees_df['Close'].mean()\n",
    "goldbees_std = goldbees_df['Close'].std()\n",
    "\n",
    "hdfc_gold_mean = hdfc_gold_df['Close'].mean()\n",
    "hdfc_gold_std = hdfc_gold_df['Close'].std()\n",
    "\n",
    "goldbees_mean, goldbees_std, hdfc_gold_mean, hdfc_gold_std\n",
    "\n",
    "# --- Mean Reversion Strategy Implementation ---\n",
    "# Generate buy/sell signals\n",
    "def generate_signals(data, mean, std):\n",
    "    signals = pd.Series(index=data.index)\n",
    "    signals[data['Close'] < (mean - std)] = 1  # Buy signal\n",
    "    signals[data['Close'] > (mean + std)] = -1  # Sell signal\n",
    "    signals.fillna(0, inplace=True)\n",
    "    return signals\n",
    "\n",
    "goldbees_signals = generate_signals(goldbees_df, goldbees_mean, goldbees_std)\n",
    "hdfc_gold_signals = generate_signals(hdfc_gold_df, hdfc_gold_mean, hdfc_gold_std)\n",
    "\n",
    "goldbees_signals.head(), hdfc_gold_signals.head()\n",
    "\n",
    "# --- Backtesting the Strategy ---\n",
    "def backtest(data, signals):\n",
    "    df = data.copy()\n",
    "    df['Position'] = signals\n",
    "    df['Market_Returns'] = df['Close'].pct_change()\n",
    "    df['Strategy_Returns'] = df['Market_Returns'] * df['Position'].shift(1)\n",
    "    df['Cumulative_Strategy_Returns'] = (1 + df['Strategy_Returns'].fillna(0)).cumprod()\n",
    "    return df\n",
    "\n",
    "goldbees_backtest = backtest(goldbees_df, goldbees_signals)\n",
    "hdfc_gold_backtest = backtest(hdfc_gold_df, hdfc_gold_signals)\n",
    "\n",
    "goldbees_backtest[['Market_Returns', 'Strategy_Returns']].head(), hdfc_gold_backtest[['Market_Returns', 'Strategy_Returns']].head()\n",
    "\n",
    "# --- Visualization of Results ---\n",
    "def plot_results(data, title):\n",
    "    plt.figure(figsize=(12, 6))\n",
    "    plt.plot(data['Close'], label='Price')\n",
    "    plt.plot(data['Cumulative_Strategy_Returns'], label='Cumulative Strategy Returns')\n",
    "    plt.title(title)\n",
    "    plt.xlabel('Date')\n",
    "    plt.ylabel('Price / Cumulative Returns')\n",
    "    plt.legend()\n",
    "    plt.grid(True)\n",
    "    plt.tight_layout()\n",
    "    plt.show()\n",
    "\n",
    "plot_results(goldbees_backtest, 'GoldBees ETF Mean Reversion Strategy')\n",
    "plot_results(hdfc_gold_backtest, 'HDFC Gold ETF Mean Reversion_backtest, 'Nippon Silver ETF Mean Reversion Strategy')torical price data\n",
    "goldbees_df = pd.read_csv('../data/goldbees_4yr_data.csv', parse_dates=True, index_col='Date')\n",
    "hdfc_gold_df = pd.read_csv('../data/hdfcgold_4yr_data.csv', parse_dates=True, index_col='Date')\n",
    "nippon_silver_df = pd.read_csv('../data/nippon_silver_4yr_data.csv', parse_dates=True, index_col='Date')\n",
    "gold_silver_inr_df = pd.read_csv('../data/gold_silver_inr_4yr_data.csv', parse_dates=True, index_col='Date')\n",
    "\n",
    "# Display the first few rows of the data\n",
    "goldbees_df.head(), hdfc_gold_df.head(), nippon_silver_df.head(), gold_silver_inr_df.head()"
   ]
  },
  {
   "cell_type": "markdown",
   "metadata": {},
   "source": [
    "## Data Analysis\n",
    "\n",
    "In this section, we will analyze the historical price data to understand the trends and calculate the mean and standard deviation for the ETFs."
   ]
  },
  {
   "cell_type": "code",
   "execution_count": null,
   "metadata": {
    "id": "data_analysis"
   },
   "outputs": [],
   "source": [
    "# Calculate mean and standard deviation\n",
    "goldbees_mean = goldbees_df['Close'].mean()\n",
    "goldbees_std = goldbees_df['Close'].std()\n",
    "\n",
    "hdfc_gold_mean = hdfc_gold_df['Close'].mean()\n",
    "hdfc_gold_std = hdfc_gold_df['Close'].std()\n",
    "\n",
    "nippon_silver_mean = nippon_silver_df['Close'].mean()\n",
    "nippon_silver_std = nippon_silver_df['Close'].std()\n",
    "\n",
    "goldbees_mean, goldbees_std, hdfc_gold_mean, hdfc_gold_std, nippon_silver_mean, nippon_silver_std"
   ]
  },
  {
   "cell_type": "markdown",
   "metadata": {},
   "source": [
    "## Mean Reversion Strategy Implementation\n",
    "\n",
    "We will implement the mean reversion strategy by generating buy and sell signals based on the calculated mean and standard deviation."
   ]
  },
  {
   "cell_type": "code",
   "execution_count": null,
   "metadata": {
    "id": "mean_reversion_strategy"
   },
   "outputs": [],
   "source": [
    "# Generate buy/sell signals\n",
    "def generate_signals(data, mean, std):\n",
    "    signals = pd.Series(index=data.index)\n",
    "    signals[data['Close'] < (mean - std)] = 1  # Buy signal\n",
    "    signals[data['Close'] > (mean + std)] = -1  # Sell signal\n",
    "    signals.fillna(0, inplace=True)\n",
    "    return signals\n",
    "\n",
    "goldbees_signals = generate_signals(goldbees_df, goldbees_mean, goldbees_std)\n",
    "hdfc_gold_signals = generate_signals(hdfc_gold_df, hdfc_gold_mean, hdfc_gold_std)\n",
    "nippon_silver_signals = generate_signals(nippon_silver_df, nippon_silver_mean, nippon_silver_std)\n",
    "\n",
    "goldbees_signals.head(), hdfc_gold_signals.head(), nippon_silver_signals.head()"
   ]
  },
  {
   "cell_type": "markdown",
   "metadata": {},
   "source": [
    "## Backtesting the Strategy\n",
    "\n",
    "In this section, we will backtest the mean reversion strategy to evaluate its performance."
   ]
  },
  {
   "cell_type": "code",
   "execution_count": null,
   "metadata": {
    "id": "backtesting"
   },
   "outputs": [],
   "source": [
    "# Backtesting function\n",
    "def backtest(data, signals):\n",
    "    data['Position'] = signals\n",
    "    data['Market_Returns'] = data['Close'].pct_change()\n",
    "    data['Strategy_Returns'] = data['Market_Returns'] * data['Position'].shift(1)\n",
    "    return data\n",
    "\n",
    "goldbees_backtest = backtest(goldbees_df, goldbees_signals)\n",
    "hdfc_gold_backtest = backtest(hdfc_gold_df, hdfc_gold_signals)\n",
    "nippon_silver_backtest = backtest(nippon_silver_df, nippon_silver_signals)\n",
    "\n",
    "goldbees_backtest[['Market_Returns', 'Strategy_Returns']].head(), hdfc_gold_backtest[['Market_Returns', 'Strategy_Returns']].head(), nippon_silver_backtest[['Market_Returns', 'Strategy_Returns']].head()"
   ]
  },
  {
   "cell_type": "markdown",
   "metadata": {},
   "source": [
    "## Visualization of Results\n",
    "\n",
    "Finally, we will visualize the results of the backtest to assess the performance of the mean reversion strategy."
   ]
  },
  {
   "cell_type": "code",
   "execution_count": null,
   "metadata": {
    "id": "visualization"
   },
   "outputs": [],
   "source": [
    "# Plotting the results\n",
    "def plot_results(data, title):\n",
    "    plt.figure(figsize=(12, 6))\n",
    "    plt.plot(data['Close'], label='Price')\n",
    "    plt.plot(data['Strategy_Returns'].cumsum(), label='Cumulative Strategy Returns')\n",
    "    plt.title(title)\n",
    "    plt.xlabel('Date')\n",
    "    plt.ylabel('Returns')\n",
    "    plt.legend()\n",
    "    plt.grid(True)\n",
    "    plt.show()\n",
    "\n",
    "plot_results(goldbees_backtest, 'GoldBees ETF Mean Reversion Strategy')\n",
    "plot_results(hdfc_gold_backtest, 'HDFC Gold ETF Mean Reversion Strategy')\n",
    "plot_results(nippon_silver_backtest, 'Nippon Silver ETF Mean Reversion Strategy')"
   ]
  }
 ],
 "metadata": {
  "kernelspec": {
   "display_name": "base",
   "language": "python",
   "name": "python3"
  },
  "language_info": {
   "codemirror_mode": {
    "name": "ipython",
    "version": 3
   },
   "file_extension": ".py",
   "mimetype": "text/x-python",
   "name": "python",
   "nbconvert_exporter": "python",
   "pygments_lexer": "ipython3",
   "version": "3.11.5"
  }
 },
 "nbformat": 4,
 "nbformat_minor": 4
}
